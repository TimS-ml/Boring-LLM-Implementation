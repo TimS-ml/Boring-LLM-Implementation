{
 "cells": [
  {
   "cell_type": "markdown",
   "metadata": {},
   "source": [
    "# Ref:\n",
    "- https://github.com/TimS-ml/nanoGPT/blob/master/gpt.py\n",
    "- https://github.com/lucidrains/x-transformers/blob/main/examples/enwik8_simple/train.py\n",
    "\n",
    "wip\n",
    "You can specify the data directory by setting the `DATA_DIR` environment variable."
   ]
  },
  {
   "cell_type": "code",
   "execution_count": 1,
   "metadata": {},
   "outputs": [],
   "source": [
    "import os\n",
    "from boring_llm_base.constants import PROJECT_HOME_DIR\n",
    "import sys; sys.path.append(str(PROJECT_HOME_DIR)); os.chdir(PROJECT_HOME_DIR)"
   ]
  },
  {
   "cell_type": "code",
   "execution_count": 2,
   "metadata": {},
   "outputs": [],
   "source": [
    "import random\n",
    "import tqdm\n",
    "import gzip\n",
    "import numpy as np\n",
    "import torch\n",
    "import torch.nn as nn\n",
    "import torch.optim as optim\n",
    "from torch.nn import functional as F\n",
    "from torch.utils.data import DataLoader, Dataset"
   ]
  },
  {
   "cell_type": "code",
   "execution_count": 5,
   "metadata": {},
   "outputs": [],
   "source": [
    "from boring_utils.utils import cprint"
   ]
  },
  {
   "cell_type": "code",
   "execution_count": 4,
   "metadata": {},
   "outputs": [],
   "source": [
    "data_dir = os.getenv('DATA_DIR', './data')\n",
    "\n",
    "# read nanoGPT's shakespeare_char\n",
    "# with open(os.path.join(data_dir, 'shakespeare_char/input.txt'), 'r', encoding='utf-8') as f:\n",
    "#     text = f.read()\n",
    "\n",
    "# read enwik8 first 95M bytes\n",
    "with gzip.open(os.path.join(data_dir, 'enwik8/enwik8.gz')) as file:\n",
    "    text = file.read(int(95e6)).decode('utf-8')\n",
    "\n",
    "# create mapping from characters to indices\n",
    "chars = sorted(list(set(text)))\n",
    "stoi = { ch:i for i,ch in enumerate(chars) }\n",
    "itos = { i:ch for i,ch in enumerate(chars) }\n",
    "\n",
    "# encode text\n",
    "data = torch.tensor([stoi[c] for c in text], dtype=torch.long)\n",
    "# n = int(0.9*len(data))\n",
    "# data_train, data_val = data[:n], data[n:]\n",
    "data_train, data_val = np.split(data, [int(90e6)])  # for enwik8"
   ]
  },
  {
   "cell_type": "code",
   "execution_count": 12,
   "metadata": {},
   "outputs": [
    {
     "name": "stdout",
     "output_type": "stream",
     "text": [
      "\u001b[93m<module> -> text[:1000]:\u001b[0m\n",
      "('<mediawiki xmlns=\"http://www.mediawiki.org/xml/export-0.3/\" '\n",
      " 'xmlns:xsi=\"http://www.w3.org/2001/XMLSchema-instance\" '\n",
      " 'xsi:schemaLocation=\"http://www.mediawiki.org/xml/export-0.3/ '\n",
      " 'http://www.mediawiki.org/xml/export-0.3.xsd\" version=\"0.3\" xml:lang=\"en\">\\n'\n",
      " '  <siteinfo>\\n'\n",
      " '    <sitename>Wikipedia</sitename>\\n'\n",
      " '    <base>http://en.wikipedia.org/wiki/Main_Page</base>\\n'\n",
      " '    <generator>MediaWiki 1.6alpha</generator>\\n'\n",
      " '    <case>first-letter</case>\\n'\n",
      " '      <namespaces>\\n'\n",
      " '      <namespace key=\"-2\">Media</namespace>\\n'\n",
      " '      <namespace key=\"-1\">Special</namespace>\\n'\n",
      " '      <namespace key=\"0\" />\\n'\n",
      " '      <namespace key=\"1\">Talk</namespace>\\n'\n",
      " '      <namespace key=\"2\">User</namespace>\\n'\n",
      " '      <namespace key=\"3\">User talk</namespace>\\n'\n",
      " '      <namespace key=\"4\">Wikipedia</namespace>\\n'\n",
      " '      <namespace key=\"5\">Wikipedia talk</namespace>\\n'\n",
      " '      <namespace key=\"6\">Image</namespace>\\n'\n",
      " '      <namespace key=\"7\">Image talk</namespace>\\n'\n",
      " '      <namespace key=\"8\">MediaWiki</namespace>\\n'\n",
      " '      <namespace key=\"9\">MediaWiki talk</namespace>\\n'\n",
      " '      <namespa')\n",
      "\u001b[93m<module> -> text[10000:11000]:\u001b[0m\n",
      "('ader in the [[American Indian Movement]], has repeatedly stated that he is '\n",
      " '&quot;an anarchist, and so are all [his] ancestors.&quot;\\n'\n",
      " '\\n'\n",
      " 'In 1793, in the thick of the [[French Revolution]], [[William Godwin]] '\n",
      " \"published ''An Enquiry Concerning Political Justice'' \"\n",
      " '[http://web.bilkent.edu.tr/Online/www.english.upenn.edu/jlynch/Frank/Godwin/pjtp.html]. '\n",
      " \"Although Godwin did not use the word ''anarchism'', many later anarchists \"\n",
      " 'have regarded this book as the first major anarchist text, and Godwin as the '\n",
      " '&quot;founder of philosophical anarchism.&quot; But at this point no '\n",
      " \"anarchist movement yet existed, and the term ''anarchiste'' was known mainly \"\n",
      " 'as an insult hurled by the [[bourgeois]] [[Girondins]] at more radical '\n",
      " 'elements in the [[French revolution]].\\n'\n",
      " '\\n'\n",
      " '==The first self-labelled anarchist==\\n'\n",
      " '[[Image:Pierre_Joseph_Proudhon.jpg|110px|thumb|left|Pierre Joseph '\n",
      " 'Proudhon]]\\n'\n",
      " '{{main articles|[[Pierre-Joseph Proudhon]] and [[Mutualism (economic '\n",
      " 'theory)]]}}\\n'\n",
      " '\\n'\n",
      " \"It is commonly held that it wasn't until [[Pierr\")\n",
      "\u001b[93m<module> -> text[-1000:]:\u001b[0m\n",
      "('kynetarion]] | [[Symbolism]] | [[Religious symbolism]] | [[Jewish '\n",
      " 'symbolism]] | [[Christian symbolism]] | [[Anthropology of religion]] | '\n",
      " '[[List of religious topics]] | [[Emblem]] | [[Iconoclasm]] | [[Iconography]] '\n",
      " '| [[Iconostasis]] | [[Ideogram]] | [[Idolatry]] | [[Image]] | [[Ishta-Deva]] '\n",
      " '| [[Lingam]] | [[Logotype]] | [[Masking]] | [[Murti]] | [[Saligrama]] | '\n",
      " '[[Sign]] | [[Symbol]] | [[Veneration]]\\n'\n",
      " '\\n'\n",
      " '== External links ==\\n'\n",
      " '=== Orthodox ===\\n'\n",
      " '*[http://www.orthodoxinfo.com/general/orth_icon.aspx The Iconic and Symbolic '\n",
      " 'in Orthodox Iconography]\\n'\n",
      " '*[http://www.traditionaliconography.com/webgalleryart.html On the difference '\n",
      " 'of Western Religious Art and Orthodox Iconography]\\n'\n",
      " '\\n'\n",
      " '=== Catholic ===\\n'\n",
      " \"*[http://www.newadvent.org/cathen/07664a.htm ''Catholic \"\n",
      " \"Encyclopedia'':]&quot;Veneration of Images&quot;\\n\"\n",
      " '\\n'\n",
      " '=== Protestant ===\\n'\n",
      " \"*[http://www.xpucmoc.org/icon.htm ''Theology of Icons: a Protestant \"\n",
      " \"Perspective'']\\n\"\n",
      " '\\n'\n",
      " '=== Pictures ===\\n'\n",
      " '*[http://www.culture.gr/2/21/218/218ab/e218ab00.html Icons of Mount Athos]\\n'\n",
      " '*[http://w')\n",
      "\u001b[93m<module> -> data_val[:300]:\u001b[0m\n",
      "tensor([ 2, 86, 74, 71,  2, 86, 71, 69, 74, 80, 75, 83, 87, 71,  2, 75, 85,  2,\n",
      "        86, 74, 67, 86,  2, 75, 86,  2, 74, 67, 85,  2, 88, 71, 84, 91,  2, 78,\n",
      "        75, 86, 86, 78, 71,  2, 68, 87, 72, 72, 71, 84, 75, 80, 73,  2, 67, 73,\n",
      "        67, 75, 80, 85, 86,  2, 75, 80, 86, 71, 84, 84, 87, 82, 86, 75, 81, 80,\n",
      "        85,  2, 75, 80,  2, 86, 74, 71,  2, 72, 78, 81, 89,  2, 71, 16, 73, 16,\n",
      "         2, 82, 81, 89, 71, 84,  2, 81, 87, 86, 67, 73, 71, 85, 14,  2, 68, 87,\n",
      "        86,  2, 81, 88, 71, 84, 67, 78, 78, 14,  2, 75, 86,  2, 75, 85,  2, 82,\n",
      "        84, 81, 68, 67, 68, 78, 91,  2, 81, 80, 71,  2, 81, 72,  2, 86, 74, 71,\n",
      "         2, 79, 81, 84, 71,  2, 82, 84, 81, 70, 87, 69, 86, 75, 88, 71,  2, 86,\n",
      "        71, 69, 74, 80, 75, 83, 87, 71, 85, 16,  1,  1, 31, 31, 31,  2, 35, 71,\n",
      "        84, 81, 82, 81, 80, 75, 69, 85,  2, 31, 31, 31,  1, 93, 93, 79, 67, 75,\n",
      "        80, 94, 35, 71, 84, 81, 82, 81, 80, 75, 69, 85, 95, 95,  1,  1, 35,  2,\n",
      "        69, 78, 67, 85, 85,  2, 81, 72,  2, 74, 91, 70, 84, 81, 82, 81, 80, 75,\n",
      "        69, 85,  2, 89, 74, 71, 84, 71,  2, 86, 74, 71,  2, 84, 81, 81, 86, 85,\n",
      "         2, 81, 72,  2, 67,  2, 82, 78, 67, 80, 86,  2, 67, 84, 71,  2, 85, 87,\n",
      "        85, 82, 71, 80, 70, 71, 70,  2, 75, 80,  2, 67,  2, 79, 75, 85, 86,  2,\n",
      "        81, 84,  2, 72, 81, 73,  2, 81, 72,  2, 80, 87])\n"
     ]
    }
   ],
   "source": [
    "cprint(text[:1000])\n",
    "cprint(text[10000:11000])\n",
    "cprint(text[-1000:])\n",
    "cprint(data_val[:300])"
   ]
  },
  {
   "cell_type": "code",
   "execution_count": null,
   "metadata": {},
   "outputs": [],
   "source": [
    "class TextSamplerDataset(Dataset):\n",
    "    def __init__(self, data, seq_len):\n",
    "        super().__init__()\n",
    "        self.data = data\n",
    "        self.seq_len = seq_len\n",
    "\n",
    "    def __getitem__(self, index):\n",
    "        # randomly select start position\n",
    "        rand_start = torch.randint(0, len(self.data) - self.seq_len - 1, (1,))\n",
    "        full_seq = self.data[rand_start: rand_start + self.seq_len + 1].long()\n",
    "        return full_seq.cuda()\n",
    "\n",
    "    def __len__(self):\n",
    "        return len(self.data) // self.seq_len\n",
    "\n",
    "# modify decode function\n",
    "def decode_tokens(tokens):\n",
    "    return ''.join([itos[token.item()] for token in tokens])"
   ]
  },
  {
   "cell_type": "code",
   "execution_count": null,
   "metadata": {},
   "outputs": [],
   "source": [
    "NUM_TOKENS = len(chars) # replace original 256\n",
    "SEQ_LEN = 256  # keep consistent with nanoGPT"
   ]
  }
 ],
 "metadata": {
  "kernelspec": {
   "display_name": "llm",
   "language": "python",
   "name": "python3"
  },
  "language_info": {
   "codemirror_mode": {
    "name": "ipython",
    "version": 3
   },
   "file_extension": ".py",
   "mimetype": "text/x-python",
   "name": "python",
   "nbconvert_exporter": "python",
   "pygments_lexer": "ipython3",
   "version": "3.11.9"
  }
 },
 "nbformat": 4,
 "nbformat_minor": 2
}
